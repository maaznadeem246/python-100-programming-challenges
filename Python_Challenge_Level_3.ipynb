{
 "cells": [
  {
   "cell_type": "markdown",
   "metadata": {},
   "source": [
    "<h2>Question 18</h2>\n",
    "\n",
    "<h6>\n",
    "A website requires the users to input username and password to register. Write a program to check the validity of password input by users.<br>\n",
    "Following are the criteria for checking the password:<br>\n",
    "1. At least 1 letter between [a-z]<br>\n",
    "2. At least 1 number between [0-9]<br>\n",
    "1. At least 1 letter between [A-Z]<br>\n",
    "3. At least 1 character from \\[$#@\\]<br>\n",
    "4. Minimum length of transaction password: 6<br>\n",
    "5. Maximum length of transaction password: 12<br>\n",
    "Your program should accept a sequence of comma separated passwords and will check them according to the above criteria.<br> Passwords that match the criteria are to be printed, each separated by a comma.<br>\n",
    "Example<br>\n",
    "If the following passwords are given as input to the program:<br>\n",
    "ABd1234@1,a F1#,2w3E*,2We3345<br>\n",
    "Then, the output of the program should be:<br>\n",
    "ABd1234@1<br>\n",
    "</h6>"
   ]
  },
  {
   "cell_type": "code",
   "execution_count": 59,
   "metadata": {},
   "outputs": [
    {
     "name": "stdout",
     "output_type": "stream",
     "text": [
      "ABd1234@1\n"
     ]
    }
   ],
   "source": [
    "import re\n",
    "rowInput = \"ABd1234@1,a F1#,2w3E*,2We3345\"\n",
    "items = [x for x in rowInput.split(',')]\n",
    "value = []\n",
    "for item in items:\n",
    "    if len(item) < 6 or len(item) > 12:\n",
    "        continue\n",
    "    else:\n",
    "        pass\n",
    "\n",
    "    if not re.search(\"[a-z]\",item):\n",
    "        continue\n",
    "    elif not re.search(\"[A-Z]\",item):\n",
    "        continue\n",
    "    elif not re.search(\"[0-9]\",item):\n",
    "        continue\n",
    "    elif not re.search(\"[$#@]\",item):\n",
    "        continue\n",
    "    elif re.search(\"\\s\",item):\n",
    "        continue\n",
    "    else:\n",
    "        pass\n",
    "    \n",
    "    value.append(item)\n",
    "print(\",\".join(value))\n",
    "    "
   ]
  },
  {
   "cell_type": "markdown",
   "metadata": {},
   "source": [
    "<h1>Question 19</h1>\n",
    "<h6>\n",
    "You are required to write a program to sort the (name, age, height) tuples by ascending order where name is string, age and<br> height are numbers. The tuples are input by console. The sort criteria is:<br>\n",
    "1: Sort based on name;<br>\n",
    "2: Then sort based on age;<br>\n",
    "3: Then sort by score.<br>\n",
    "The priority is that name > age > score.<br>\n",
    "If the following tuples are given as input to the program:<br>\n",
    "Tom,19,80<br>\n",
    "John,20,90<br>\n",
    "Jony,17,91<br>\n",
    "Jony,17,93<br>\n",
    "Json,21,85<br>\n",
    "Then, the output of the program should be:<br>\n",
    "[('John', '20', '90'), ('Jony', '17', '91'), ('Jony', '17', '93'), ('Json', '21', '85'), ('Tom', '19', '80')]<br>\n",
    "</h6>"
   ]
  },
  {
   "cell_type": "code",
   "execution_count": 19,
   "metadata": {},
   "outputs": [
    {
     "name": "stdout",
     "output_type": "stream",
     "text": [
      "[('John', '20', '90'), ('Jony', '17', '91'), ('Jony', '17', '93'), ('Json', '21', '85'), ('Tom', '19', '80')]\n"
     ]
    }
   ],
   "source": [
    "from operator import itemgetter, attrgetter\n",
    "rowInputfor19 = \"Tom,19,80\\nJohn,20,90\\nJony,17,91\\nJony,17,93\\nJson,21,85\"\n",
    "l  = []\n",
    "for item in rowInputfor19.split('\\n'): \n",
    "    if not item:\n",
    "        break\n",
    "    l.append(tuple(item.split(',')))\n",
    "\n",
    "print(sorted(l,key=itemgetter(0,1,2)))    "
   ]
  },
  {
   "cell_type": "markdown",
   "metadata": {},
   "source": [
    "<h1>Question 20</h1>\n",
    "<h6>\n",
    "\n",
    "A robot moves in a plane starting from the original point (0,0). The robot can move toward UP, DOWN, LEFT and RIGHT with a<br> given steps. The trace of robot movement is shown as the following:<br>\n",
    "UP 5<br>\n",
    "DOWN 3<br>\n",
    "LEFT 3<br>\n",
    "RIGHT 2<br>\n",
    "¡­<br>\n",
    "The numbers after the direction are steps. Please write a program to compute the distance from current position after a<br> sequence of movement and original point. If the distance is a float, then just print the nearest integer.<br>\n",
    "Example:<br>\n",
    "If the following tuples are given as input to the program:<br>\n",
    "UP 5<br>\n",
    "DOWN 3<br>\n",
    "LEFT 3<br>\n",
    "RIGHT 2<br>\n",
    "Then, the output of the program should be:<br>\n",
    "2<br>\n",
    "</h6>"
   ]
  },
  {
   "cell_type": "code",
   "execution_count": 22,
   "metadata": {},
   "outputs": [
    {
     "name": "stdout",
     "output_type": "stream",
     "text": [
      "2\n"
     ]
    }
   ],
   "source": [
    "import math\n",
    "pos = [0,0]\n",
    "rawInputfor20 = \"UP 5\\nDOWN 3\\nLEFT 3\\nRIGHT 2\"\n",
    "for m in rawInputfor20.split('\\n'):\n",
    "    if not item:\n",
    "        break\n",
    "    movement = m.split(' ')\n",
    "    direction  = movement[0].lower()\n",
    "    steps = int(movement[1])\n",
    "    if direction == \"up\":\n",
    "        pos[0] += steps\n",
    "    elif direction == \"down\":\n",
    "        pos[0] -= steps\n",
    "    elif direction == \"left\":\n",
    "        pos[1] -= steps\n",
    "    elif direction == \"right\":\n",
    "        pos[1] += steps\n",
    "    else:\n",
    "        pass\n",
    "\n",
    "print(int(round(math.sqrt(pos[1]**2+pos[0]**2))))"
   ]
  },
  {
   "cell_type": "markdown",
   "metadata": {},
   "source": [
    "<h1>Question 22</h1>\n",
    "<h6>\n",
    "Write a program to compute the frequency of the words from the input. The output should output after sorting the key<br> alphanumerically. <br>\n",
    "Suppose the following input is supplied to the program:<br>\n",
    "New to Python or choosing between Python 2 and Python 3? Read Python 2 or Python 3.<br>\n",
    "Then, the output should be:<br>\n",
    "2:2<br>\n",
    "3.:1<br>\n",
    "3?:1<br>\n",
    "New:1<br>\n",
    "Python:5<br>\n",
    "Read:1<br>\n",
    "and:1<br>\n",
    "between:1<br>\n",
    "choosing:1<br>\n",
    "or:2<br>\n",
    "to:1<br>\n",
    "</h6>"
   ]
  },
  {
   "cell_type": "code",
   "execution_count": 58,
   "metadata": {},
   "outputs": [
    {
     "name": "stdout",
     "output_type": "stream",
     "text": [
      "2:2\n",
      "3.:1\n",
      "3?:1\n",
      "New:1\n",
      "Python:5\n",
      "Read:1\n",
      "and:1\n",
      "between:1\n",
      "choosing:1\n",
      "or:2\n",
      "to:1\n"
     ]
    }
   ],
   "source": [
    "rawInputfor20 = \"New to Python or choosing between Python 2 and Python 3? Read Python 2 or Python 3.\"\n",
    "freq = {}\n",
    "for word in rawInputfor20.split():\n",
    "    freq[word] = freq.get(word,0)+1\n",
    "words = list(freq.keys())\n",
    "words.sort()\n",
    "\n",
    "for w in words:\n",
    "    print(\"%s:%d\"%(w,freq[w]))"
   ]
  },
  {
   "cell_type": "markdown",
   "metadata": {},
   "source": [
    "<h1>Question 23</h2>\n",
    "<h6>Write a program which can filter even numbers in a list by using filter function. The list is: [1,2,3,4,5,6,7,8,9,10].</h6>"
   ]
  },
  {
   "cell_type": "code",
   "execution_count": 3,
   "metadata": {},
   "outputs": [
    {
     "name": "stdout",
     "output_type": "stream",
     "text": [
      "[2, 4, 6, 8, 10]\n"
     ]
    }
   ],
   "source": [
    "list1 = [1,2,3,4,5,6,7,8,9,10]\n",
    "evenNumbers = filter(lambda l : l%2==0,list1)\n",
    "print(list(evenNumbers))"
   ]
  },
  {
   "cell_type": "markdown",
   "metadata": {},
   "source": [
    "<h1>Question 24</h1>\n",
    "<h6>Write a program which can map() to make a list whose elements are square of elements in [1,2,3,4,5,6,7,8,9,10].</h6>"
   ]
  },
  {
   "cell_type": "code",
   "execution_count": 5,
   "metadata": {},
   "outputs": [
    {
     "name": "stdout",
     "output_type": "stream",
     "text": [
      "[1, 4, 9, 16, 25, 36, 49, 64, 81, 100]\n"
     ]
    }
   ],
   "source": [
    "list2 = [1,2,3,4,5,6,7,8,9,10]\n",
    "evenNumbers = map(lambda e : e**2,list2)\n",
    "print(list(evenNumbers))"
   ]
  },
  {
   "cell_type": "code",
   "execution_count": null,
   "metadata": {},
   "outputs": [],
   "source": []
  }
 ],
 "metadata": {
  "kernelspec": {
   "display_name": "Python 3",
   "language": "python",
   "name": "python3"
  },
  "language_info": {
   "codemirror_mode": {
    "name": "ipython",
    "version": 3
   },
   "file_extension": ".py",
   "mimetype": "text/x-python",
   "name": "python",
   "nbconvert_exporter": "python",
   "pygments_lexer": "ipython3",
   "version": "3.6.5"
  }
 },
 "nbformat": 4,
 "nbformat_minor": 2
}
