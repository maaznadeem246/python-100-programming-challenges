{
 "cells": [
  {
   "cell_type": "markdown",
   "metadata": {},
   "source": [
    "<h2>Question</h2>\n",
    "\n",
    "\n",
    "<h5>Write a program which will find all such numbers which are divisible by 7 but are not a multiple of 5,\n",
    "between 2000 and 3200 (both included).\n",
    "The numbers obtained should be printed in a comma-separated sequence on a single line.</h5>"
   ]
  },
  {
   "cell_type": "code",
   "execution_count": 1,
   "metadata": {},
   "outputs": [
    {
     "name": "stdout",
     "output_type": "stream",
     "text": [
      "2002,2009,2016,2023,2037,2044,2051,2058,2072,2079,2086,2093,2107,2114,2121,2128,2142,2149,2156,2163,2177,2184,2191,2198,2212,2219,2226,2233,2247,2254,2261,2268,2282,2289,2296,2303,2317,2324,2331,2338,2352,2359,2366,2373,2387,2394,2401,2408,2422,2429,2436,2443,2457,2464,2471,2478,2492,2499,2506,2513,2527,2534,2541,2548,2562,2569,2576,2583,2597,2604,2611,2618,2632,2639,2646,2653,2667,2674,2681,2688,2702,2709,2716,2723,2737,2744,2751,2758,2772,2779,2786,2793,2807,2814,2821,2828,2842,2849,2856,2863,2877,2884,2891,2898,2912,2919,2926,2933,2947,2954,2961,2968,2982,2989,2996,3003,3017,3024,3031,3038,3052,3059,3066,3073,3087,3094,3101,3108,3122,3129,3136,3143,3157,3164,3171,3178,3192,3199\n"
     ]
    }
   ],
   "source": [
    "listValues = []\n",
    "for i in range(2000,3201):\n",
    "    if(i%7==0 and i%5!=0):\n",
    "        listValues.append(str(i))\n",
    "\n",
    "print(','.join(listValues))"
   ]
  },
  {
   "cell_type": "markdown",
   "metadata": {},
   "source": [
    "<h2>Question</h2>\n",
    "\n",
    "<h6>\n",
    "Write a program which can compute the factorial of a given numbers.The results should be printed in a comma-separated sequence on a single line.Suppose the following input is supplied to the program : 8 Then, the output should be:40320</h6>"
   ]
  },
  {
   "cell_type": "code",
   "execution_count": 2,
   "metadata": {},
   "outputs": [
    {
     "name": "stdout",
     "output_type": "stream",
     "text": [
      "40320\n"
     ]
    }
   ],
   "source": [
    "number = 8\n",
    "def fact(number):\n",
    "    if number == 0:\n",
    "        return 1\n",
    "    return number * fact(number-1)\n",
    "print(fact(number))"
   ]
  },
  {
   "cell_type": "markdown",
   "metadata": {},
   "source": [
    "<h2>Question </h2>\n",
    "\n",
    "<h6>\n",
    "With a given integral number n, write a program to generate a dictionary that contains (i, i*i) such that is an integral number between 1 and n (both included). and then the program should print the dictionary. Suppose the following input is supplied to the program:8 Then, the output should be: {1: 1, 2: 4, 3: 9, 4: 16, 5: 25, 6: 36, 7: 49, 8: 64}</h6>"
   ]
  },
  {
   "cell_type": "code",
   "execution_count": 3,
   "metadata": {},
   "outputs": [
    {
     "name": "stdout",
     "output_type": "stream",
     "text": [
      "{1: 1, 2: 4, 3: 9, 4: 16, 5: 25}\n"
     ]
    }
   ],
   "source": [
    "#dicnumber = int(input(\"Give the Number : \"))\n",
    "dicnumber = 5\n",
    "dicwithintegral={}\n",
    "for i in range(1,dicnumber+1):\n",
    "    dicwithintegral[i] = i*i\n",
    "print(dicwithintegral)"
   ]
  },
  {
   "cell_type": "markdown",
   "metadata": {},
   "source": [
    "<h2>Question</h2>\n",
    "\n",
    "<h6>\n",
    "\n",
    "Write a program which accepts a sequence of comma-separated numbers from console and generate a list and a tuple which contains every number.\n",
    "Suppose the following input is supplied to the program: 34,67,55,33,12,98 Then, the output should be:\n",
    "['34', '67', '55', '33', '12', '98']\n",
    "('34', '67', '55', '33', '12', '98')\n",
    "</h6>"
   ]
  },
  {
   "cell_type": "code",
   "execution_count": 4,
   "metadata": {},
   "outputs": [
    {
     "name": "stdout",
     "output_type": "stream",
     "text": [
      "['45', '23', '54', '7', '34', '23'] ('45', '23', '54', '7', '34', '23')\n"
     ]
    }
   ],
   "source": [
    "#numforlisttuple = input(\"Give the Numbers : \")\n",
    "numforlisttuple = \"45,23,54,7,34,23\"\n",
    "numlist = numforlisttuple.split(',')\n",
    "numtuple = tuple(numlist)\n",
    "print(numlist,numtuple)"
   ]
  },
  {
   "cell_type": "code",
   "execution_count": 5,
   "metadata": {},
   "outputs": [
    {
     "name": "stdout",
     "output_type": "stream",
     "text": [
      "11\n",
      "22\n",
      "33\n"
     ]
    }
   ],
   "source": [
    "A=['1','2','3']\n",
    "\n",
    "for a in A:\n",
    "    print(2*a)"
   ]
  },
  {
   "cell_type": "markdown",
   "metadata": {},
   "source": [
    "<h2>Question </h2>\n",
    "\n",
    "<h6>\n",
    "\n",
    "Define a class which has at least two methods:\n",
    "getString: to get a string from console input\n",
    "printString: to print the string in upper case.\n",
    "Also please include simple test function to test the class methods.\n",
    "</h6>"
   ]
  },
  {
   "cell_type": "code",
   "execution_count": 6,
   "metadata": {},
   "outputs": [
    {
     "name": "stdout",
     "output_type": "stream",
     "text": [
      "Enter Your Valuetesting\n",
      "Here is your Value : testing\n"
     ]
    }
   ],
   "source": [
    "class StringFunc():\n",
    "    def __init__(self):\n",
    "        self.s=\"\"\n",
    "    def getSring(self):\n",
    "        self.s = input(\"Enter Your Value\")\n",
    "    def printString(self):\n",
    "        print(\"Here is your Value :\",self.s)\n",
    "\n",
    "strOb = StringFunc()\n",
    "strOb.getSring()\n",
    "strOb.printString()"
   ]
  },
  {
   "cell_type": "markdown",
   "metadata": {},
   "source": [
    "<h1>Question 23</h1>\n",
    "<h6>Write a method which can calculate square value of number</h6>"
   ]
  },
  {
   "cell_type": "code",
   "execution_count": 7,
   "metadata": {},
   "outputs": [
    {
     "name": "stdout",
     "output_type": "stream",
     "text": [
      "4\n",
      "16\n"
     ]
    }
   ],
   "source": [
    "def square(v):\n",
    "    return v**2\n",
    "print(square(2))\n",
    "print(square(4))"
   ]
  },
  {
   "cell_type": "markdown",
   "metadata": {},
   "source": [
    "<h1>Question 24</h1>\n",
    "<h6>\n",
    "Python has many built-in functions, and if you do not know how to use it, you can read document online or find some books.<br> But Python has a built-in document function for every built-in functions.<br>\n",
    "Please write a program to print some Python built-in functions documents, such as abs(), int(), raw_input()<br>\n",
    "And add document for your own function<br>\n",
    "</h6>"
   ]
  },
  {
   "cell_type": "code",
   "execution_count": 8,
   "metadata": {},
   "outputs": [
    {
     "name": "stdout",
     "output_type": "stream",
     "text": [
      "Return the absolute value of the argument.\n",
      "int(x=0) -> integer\n",
      "int(x, base=10) -> integer\n",
      "\n",
      "Convert a number or string to an integer, or return 0 if no arguments\n",
      "are given.  If x is a number, return x.__int__().  For floating point\n",
      "numbers, this truncates towards zero.\n",
      "\n",
      "If x is not a number or if base is given, then x must be a string,\n",
      "bytes, or bytearray instance representing an integer literal in the\n",
      "given base.  The literal can be preceded by '+' or '-' and be surrounded\n",
      "by whitespace.  The base defaults to 10.  Valid bases are 0 and 2-36.\n",
      "Base 0 means to interpret the base from the string as an integer literal.\n",
      ">>> int('0b100', base=0)\n",
      "4\n",
      "Take Input And return sum of Both Inputs\n"
     ]
    }
   ],
   "source": [
    "print(abs.__doc__)\n",
    "print(int.__doc__)\n",
    "def summ(s1,s2):\n",
    "    '''Take Input And return sum of Both Inputs'''\n",
    "    return s1 + s2\n",
    "print(summ.__doc__)"
   ]
  },
  {
   "cell_type": "markdown",
   "metadata": {},
   "source": [
    "<h1>Question 25</h1>\n",
    "<h6>\n",
    "Define a class, which have a class parameter and have a same instance parameter.\n",
    "</h6>"
   ]
  },
  {
   "cell_type": "code",
   "execution_count": 9,
   "metadata": {},
   "outputs": [
    {
     "name": "stdout",
     "output_type": "stream",
     "text": [
      "name  is  Maaz\n",
      "name  is  Maaz\n"
     ]
    }
   ],
   "source": [
    "class Person:\n",
    "    #Define the class Parameter \"name\"\n",
    "    name = \"name\"\n",
    "    def __init__(self,name=None):\n",
    "        self.name = name\n",
    "\n",
    "Maaz = Person(\"Maaz\")\n",
    "print(Person.name,\" is \",Maaz.name)\n",
    "Maaz = Person()\n",
    "Maaz.name = \"Maaz\"\n",
    "print(Person.name,\" is \",Maaz.name)"
   ]
  },
  {
   "cell_type": "markdown",
   "metadata": {},
   "source": [
    "<h1>Question 26</h1>\n",
    "<h6>\n",
    "Define a function that can convert a integer into a string and print it in console.\n",
    "</h6>"
   ]
  },
  {
   "cell_type": "code",
   "execution_count": 10,
   "metadata": {},
   "outputs": [
    {
     "name": "stdout",
     "output_type": "stream",
     "text": [
      "2\n"
     ]
    }
   ],
   "source": [
    "def convertString(i):\n",
    "    print(str(i))\n",
    "\n",
    "convertString(2)"
   ]
  },
  {
   "cell_type": "markdown",
   "metadata": {},
   "source": [
    "<h1>Question 27</h1>\n",
    "<h6>\n",
    "Define a function which can compute the sum of two numbers.\n",
    "</h6>"
   ]
  },
  {
   "cell_type": "code",
   "execution_count": 11,
   "metadata": {},
   "outputs": [
    {
     "name": "stdout",
     "output_type": "stream",
     "text": [
      "5\n"
     ]
    }
   ],
   "source": [
    "def SumOfTwoNumbers(n1,n2):\n",
    "    return n1+n2\n",
    "print(SumOfTwoNumbers(2,3))"
   ]
  },
  {
   "cell_type": "markdown",
   "metadata": {},
   "source": [
    "<h1>Question 28</h1>\n",
    "<h6>\n",
    "Define a function that can receive two integral numbers in string form and compute their sum and then print it in console.\n",
    "</h6>"
   ]
  },
  {
   "cell_type": "code",
   "execution_count": 12,
   "metadata": {},
   "outputs": [
    {
     "name": "stdout",
     "output_type": "stream",
     "text": [
      "5\n"
     ]
    }
   ],
   "source": [
    "def SumOfcTwoNumbers(n1,n2):\n",
    "    return int(n1)+int(n2)\n",
    "print(SumOfcTwoNumbers(\"2\",\"3\"))"
   ]
  },
  {
   "cell_type": "markdown",
   "metadata": {},
   "source": [
    "<h1>Question 29</h1>\n",
    "<h6>\n",
    "Define a function that can accept two strings as input and concatenate them and then print it in console.\n",
    "</h6>"
   ]
  },
  {
   "cell_type": "code",
   "execution_count": 13,
   "metadata": {},
   "outputs": [
    {
     "name": "stdout",
     "output_type": "stream",
     "text": [
      "23\n"
     ]
    }
   ],
   "source": [
    "def concatstrings(s1,s2):\n",
    "    return s1+s2\n",
    "print(concatstrings(\"2\",\"3\"))"
   ]
  },
  {
   "cell_type": "markdown",
   "metadata": {},
   "source": [
    "<h1>Question 30</h1>\n",
    "<h6>\n",
    "Define a function that can accept two strings as input and print the string with maximum length in console. If two strings have the same length, then the function should print al l strings line by line.\n",
    "</h6>"
   ]
  },
  {
   "cell_type": "code",
   "execution_count": 14,
   "metadata": {},
   "outputs": [
    {
     "name": "stdout",
     "output_type": "stream",
     "text": [
      "StringFive\n"
     ]
    }
   ],
   "source": [
    "def checkLenghtandPrint(s1,s2):\n",
    "    s1len = len(s1)\n",
    "    s2len = len(s2)\n",
    "    if s1len > s2len:\n",
    "        print(s1)\n",
    "    elif s2len > s1len:\n",
    "        print(s2)\n",
    "    elif s1len == s2len:\n",
    "        print(s1)\n",
    "        print(s2)\n",
    "\n",
    "checkLenghtandPrint(\"stringOne\",\"StringFive\")"
   ]
  },
  {
   "cell_type": "markdown",
   "metadata": {},
   "source": [
    "<h1>Question 31</h1>\n",
    "<h6>\n",
    "Define a function that can accept an integer number as input and print the \"It is an even number\" if the number is even, otherwise print \"It is an odd number\".\n",
    "</h6>"
   ]
  },
  {
   "cell_type": "code",
   "execution_count": 15,
   "metadata": {},
   "outputs": [
    {
     "name": "stdout",
     "output_type": "stream",
     "text": [
      "It is an odd numebr\n"
     ]
    }
   ],
   "source": [
    "def CheckEvenOdd(n):\n",
    "    if n%2==0:\n",
    "        print(\"It is an even number\")\n",
    "    else:\n",
    "        print(\"It is an odd numebr\")\n",
    "CheckEvenOdd(5)"
   ]
  },
  {
   "cell_type": "markdown",
   "metadata": {},
   "source": [
    "<h1>Question 32</h1>\n",
    "<h6>\n",
    "Define a function which can print a dictionary where the keys are numbers between 1 and 3 (both included) and the values are square of keys\n",
    "</h6>"
   ]
  },
  {
   "cell_type": "code",
   "execution_count": 16,
   "metadata": {},
   "outputs": [
    {
     "name": "stdout",
     "output_type": "stream",
     "text": [
      "{1: 1, 2: 4, 3: 9}\n"
     ]
    }
   ],
   "source": [
    "dic  = dict()\n",
    "def makingDic():\n",
    "    dic[1] = 1**2\n",
    "    dic[2] = 2**2\n",
    "    dic[3] = 3**2\n",
    "    print(dic)\n",
    "\n",
    "makingDic()"
   ]
  },
  {
   "cell_type": "markdown",
   "metadata": {},
   "source": [
    "<h1>Question 33</h1>\n",
    "<h6>\n",
    "Define a function which can print a dictionary where the keys are numbers between 1 and 20 (both included) and the values are square of keys.\n",
    "</h6>"
   ]
  },
  {
   "cell_type": "code",
   "execution_count": 17,
   "metadata": {},
   "outputs": [
    {
     "name": "stdout",
     "output_type": "stream",
     "text": [
      "{1: 1, 2: 4, 3: 9, 4: 16, 5: 25, 6: 36, 7: 49, 8: 64, 9: 81, 10: 100, 11: 121, 12: 144, 13: 169, 14: 196, 15: 225, 16: 256, 17: 289, 18: 324, 19: 361, 20: 400}\n"
     ]
    }
   ],
   "source": [
    "dic1  = dict()\n",
    "def makinganoDic():\n",
    "    for n in range(1,21):\n",
    "        dic1[n] = n**2\n",
    "    print(dic1)\n",
    "\n",
    "makinganoDic()"
   ]
  },
  {
   "cell_type": "markdown",
   "metadata": {},
   "source": [
    "<h1>Question 33</h1>\n",
    "<h6>\n",
    "Define a function which can print a dictionary where the keys are numbers between 1 and 20 (both included) and the values are square of keys. The function should just print the values only.\n",
    "</h6>"
   ]
  },
  {
   "cell_type": "code",
   "execution_count": 18,
   "metadata": {},
   "outputs": [
    {
     "name": "stdout",
     "output_type": "stream",
     "text": [
      "1\n",
      "4\n",
      "9\n",
      "16\n",
      "25\n",
      "36\n",
      "49\n",
      "64\n",
      "81\n",
      "100\n",
      "121\n",
      "144\n",
      "169\n",
      "196\n",
      "225\n",
      "256\n",
      "289\n",
      "324\n",
      "361\n",
      "400\n"
     ]
    }
   ],
   "source": [
    "dic2  = dict()\n",
    "def makingantDic():\n",
    "    for n in range(1,21):\n",
    "        dic2[n] = n**2\n",
    "    for k,v in dic2.items():\n",
    "        print(v)\n",
    "\n",
    "makingantDic()\n"
   ]
  },
  {
   "cell_type": "markdown",
   "metadata": {},
   "source": [
    "<h1>Question 34</h1>\n",
    "<h6>\n",
    "Define a function which can print a dictionary where the keys are numbers between 1 and 20 (both included) and the values are square of keys. The function should just print the keys only.\n",
    "</h6>"
   ]
  },
  {
   "cell_type": "code",
   "execution_count": 19,
   "metadata": {},
   "outputs": [
    {
     "name": "stdout",
     "output_type": "stream",
     "text": [
      "1\n",
      "2\n",
      "3\n",
      "4\n",
      "5\n",
      "6\n",
      "7\n",
      "8\n",
      "9\n",
      "10\n",
      "11\n",
      "12\n",
      "13\n",
      "14\n",
      "15\n",
      "16\n",
      "17\n",
      "18\n",
      "19\n",
      "20\n"
     ]
    }
   ],
   "source": [
    "dic3  = dict()\n",
    "def makinganttDic():\n",
    "    for n in range(1,21):\n",
    "        dic3[n] = n**2\n",
    "    for k in dic3.keys():\n",
    "        print(k)\n",
    "\n",
    "makinganttDic()\n"
   ]
  },
  {
   "cell_type": "markdown",
   "metadata": {},
   "source": [
    "<h1>Question 35</h1>\n",
    "<h6>\n",
    "Define a function which can generate and print a list where the values are square of numbers between 1 and 20 (both included).\n",
    "</h6>"
   ]
  },
  {
   "cell_type": "code",
   "execution_count": 2,
   "metadata": {},
   "outputs": [
    {
     "name": "stdout",
     "output_type": "stream",
     "text": [
      "[1, 4, 9, 16, 25, 36, 49, 64, 81, 100, 121, 144, 169, 196, 225, 256, 289, 324, 361, 400]\n"
     ]
    }
   ],
   "source": [
    "list4  = list()\n",
    "def makinganttlist():\n",
    "    for v in range(1,21):\n",
    "        list4.append(v**2)\n",
    "    print(list4)\n",
    "makinganttlist()\n"
   ]
  },
  {
   "cell_type": "markdown",
   "metadata": {},
   "source": [
    "<h1>Question 36</h1>\n",
    "<h6>\n",
    "Define a function which can generate a list where the values are square of numbers between 1 and 20 (both included). Then the function needs to print the first 5 elements in the list.\n",
    "</h6>"
   ]
  },
  {
   "cell_type": "code",
   "execution_count": 9,
   "metadata": {},
   "outputs": [
    {
     "name": "stdout",
     "output_type": "stream",
     "text": [
      "[1, 4, 9, 16, 25]\n"
     ]
    }
   ],
   "source": [
    "list5  = list()\n",
    "def makinganttlist():\n",
    "    for v in range(1,21):\n",
    "        list4.append(v**2)\n",
    "    print(list4[:5])\n",
    "makinganttlist()"
   ]
  },
  {
   "cell_type": "markdown",
   "metadata": {},
   "source": [
    "<h1>Question 37</h1>\n",
    "<h6>\n",
    "Define a function which can generate a list where the values are square of numbers between 1 and 20 (both included). Then the function needs to print the last 5 elements in the list.\n",
    "</h6>"
   ]
  },
  {
   "cell_type": "code",
   "execution_count": 10,
   "metadata": {},
   "outputs": [
    {
     "name": "stdout",
     "output_type": "stream",
     "text": [
      "[225, 256, 289, 324, 361]\n"
     ]
    }
   ],
   "source": [
    "list6  = list()\n",
    "def makinganttlist():\n",
    "    for v in range(1,21):\n",
    "        list4.append(v**2)\n",
    "    print(list4[-6:-1])\n",
    "makinganttlist()"
   ]
  },
  {
   "cell_type": "markdown",
   "metadata": {},
   "source": [
    "<h1>Question 38</h1>\n",
    "<h6>\n",
    "Define a function which can generate a list where the values are square of numbers between 1 and 20 (both included). Then the function needs to print all values except the first 5 elements in the list.\n",
    "</h6>"
   ]
  },
  {
   "cell_type": "code",
   "execution_count": 11,
   "metadata": {},
   "outputs": [
    {
     "name": "stdout",
     "output_type": "stream",
     "text": [
      "[36, 49, 64, 81, 100, 121, 144, 169, 196, 225, 256, 289, 324, 361, 400, 1, 4, 9, 16, 25, 36, 49, 64, 81, 100, 121, 144, 169, 196, 225, 256, 289, 324, 361, 400, 1, 4, 9, 16, 25, 36, 49, 64, 81, 100, 121, 144, 169, 196, 225, 256, 289, 324, 361, 400, 1, 4, 9, 16, 25, 36, 49, 64, 81, 100, 121, 144, 169, 196, 225, 256, 289, 324, 361, 400]\n"
     ]
    }
   ],
   "source": [
    "list7  = list()\n",
    "def makinganttlist():\n",
    "    for v in range(1,21):\n",
    "        list4.append(v**2)\n",
    "    print(list4[5:])\n",
    "makinganttlist()"
   ]
  },
  {
   "cell_type": "markdown",
   "metadata": {},
   "source": [
    "<h1>Question 39</h1>\n",
    "<h6>\n",
    "Define a function which can generate and print a tuple where the value are square of numbers between 1 and 20 (both included). \n",
    "</h6>"
   ]
  },
  {
   "cell_type": "code",
   "execution_count": 14,
   "metadata": {},
   "outputs": [
    {
     "name": "stdout",
     "output_type": "stream",
     "text": [
      "(1, 4, 9, 16, 25, 36, 49, 64, 81, 100, 121, 144, 169, 196, 225, 256, 289, 324, 361, 400)\n"
     ]
    }
   ],
   "source": [
    "list8 = list()\n",
    "def makingantttuple():\n",
    "    for v in range(1,21):\n",
    "        list8.append(v**2)\n",
    "    print(tuple(list8))\n",
    "makingantttuple()"
   ]
  },
  {
   "cell_type": "markdown",
   "metadata": {},
   "source": [
    "<h1>Question 39</h1>\n",
    "<h6>\n",
    "With a given tuple (1,2,3,4,5,6,7,8,9,10), write a program to print the first half values in one line and the last half values in one line.\n",
    "</h6>"
   ]
  },
  {
   "cell_type": "code",
   "execution_count": 15,
   "metadata": {},
   "outputs": [
    {
     "name": "stdout",
     "output_type": "stream",
     "text": [
      "(1, 2, 3, 4, 5)\n",
      "(6, 7, 8, 9, 10)\n"
     ]
    }
   ],
   "source": [
    "tuple1 = (1,2,3,4,5,6,7,8,9,10)\n",
    "\n",
    "print(tuple1[:5])\n",
    "print(tuple1[5:])"
   ]
  },
  {
   "cell_type": "markdown",
   "metadata": {},
   "source": [
    "<h1>Question 40</h1>\n",
    "<h6>\n",
    "Write a program to generate and print another tuple whose values are even numbers in the given tuple (1,2,3,4,5,6,7,8,9,10). \n",
    "</h6>"
   ]
  },
  {
   "cell_type": "code",
   "execution_count": 17,
   "metadata": {},
   "outputs": [
    {
     "name": "stdout",
     "output_type": "stream",
     "text": [
      "(2, 4, 6, 8, 10)\n"
     ]
    }
   ],
   "source": [
    "tuple2 = (1,2,3,4,5,6,7,8,9,10)\n",
    "anothertuple2 = list()\n",
    "for t in tuple2:\n",
    "    if t%2 == 0:\n",
    "        anothertuple2.append(t)\n",
    "print(tuple(anothertuple2))"
   ]
  },
  {
   "cell_type": "markdown",
   "metadata": {},
   "source": [
    "<h1>Question 40</h1>\n",
    "<h6>\n",
    "Write a program which accepts a string as input to print \"Yes\" if the string is \"yes\" or \"YES\" or \"Yes\", otherwise print \"No\".\n",
    "</h6>"
   ]
  },
  {
   "cell_type": "code",
   "execution_count": 20,
   "metadata": {},
   "outputs": [
    {
     "name": "stdout",
     "output_type": "stream",
     "text": [
      "Yes\n"
     ]
    }
   ],
   "source": [
    "s= \"yes\"\n",
    "if s==\"yes\" or s==\"YES\" or s==\"Yes\":\n",
    "    print(\"Yes\")\n",
    "else:\n",
    "    print(\"No\")"
   ]
  },
  {
   "cell_type": "code",
   "execution_count": null,
   "metadata": {},
   "outputs": [],
   "source": []
  }
 ],
 "metadata": {
  "kernelspec": {
   "display_name": "Python 3",
   "language": "python",
   "name": "python3"
  },
  "language_info": {
   "codemirror_mode": {
    "name": "ipython",
    "version": 3
   },
   "file_extension": ".py",
   "mimetype": "text/x-python",
   "name": "python",
   "nbconvert_exporter": "python",
   "pygments_lexer": "ipython3",
   "version": "3.6.5"
  }
 },
 "nbformat": 4,
 "nbformat_minor": 2
}
